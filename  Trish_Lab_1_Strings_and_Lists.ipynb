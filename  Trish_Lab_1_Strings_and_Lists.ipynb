{
  "nbformat": 4,
  "nbformat_minor": 0,
  "metadata": {
    "colab": {
      "provenance": [],
      "include_colab_link": true
    },
    "kernelspec": {
      "name": "python3",
      "display_name": "Python 3"
    },
    "language_info": {
      "name": "python"
    }
  },
  "cells": [
    {
      "cell_type": "markdown",
      "metadata": {
        "id": "view-in-github",
        "colab_type": "text"
      },
      "source": [
        "<a href=\"https://colab.research.google.com/github/Trish-01/cloning-practice/blob/main/%20Trish_Lab_1_Strings_and_Lists.ipynb\" target=\"_parent\"><img src=\"https://colab.research.google.com/assets/colab-badge.svg\" alt=\"Open In Colab\"/></a>"
      ]
    },
    {
      "cell_type": "markdown",
      "source": [
        "# **Question 1**\n"
      ],
      "metadata": {
        "id": "RczTU8lWTSjx"
      }
    },
    {
      "cell_type": "code",
      "source": [
        "text = \"The quick brown fox jumps over the lazy dog\""
      ],
      "metadata": {
        "id": "TJ77RCpTTl7s"
      },
      "execution_count": 1,
      "outputs": []
    },
    {
      "cell_type": "markdown",
      "source": [
        "- I have created a variable called ***text***. Run the cell above to store the data in memory.\n",
        "- Run the cell below to check the data type of the data referenced by the variable ***text***"
      ],
      "metadata": {
        "id": "Z62wrlA1TjvY"
      }
    },
    {
      "cell_type": "code",
      "execution_count": null,
      "metadata": {
        "id": "jRUxK8XURJe4",
        "colab": {
          "base_uri": "https://localhost:8080/"
        },
        "outputId": "ba289c3b-1efd-480b-b3ac-4e19f5dc817e"
      },
      "outputs": [
        {
          "output_type": "execute_result",
          "data": {
            "text/plain": [
              "str"
            ]
          },
          "metadata": {},
          "execution_count": 30
        }
      ],
      "source": [
        "type(text)"
      ]
    },
    {
      "cell_type": "markdown",
      "source": [
        "a) Chek if the text is in lower case. If not convert it."
      ],
      "metadata": {
        "id": "egnkvrNoU35v"
      }
    },
    {
      "cell_type": "code",
      "source": [],
      "metadata": {
        "id": "3zxaE2ovUxoH"
      },
      "execution_count": null,
      "outputs": []
    },
    {
      "cell_type": "code",
      "source": [],
      "metadata": {
        "id": "r0aCqTxeVazc"
      },
      "execution_count": null,
      "outputs": []
    },
    {
      "cell_type": "markdown",
      "source": [
        "b) Check if the text is in upper case. If not convert it."
      ],
      "metadata": {
        "id": "j5XKFzEaU_Er"
      }
    },
    {
      "cell_type": "code",
      "source": [],
      "metadata": {
        "id": "duhvuZZAVFBE"
      },
      "execution_count": null,
      "outputs": []
    },
    {
      "cell_type": "code",
      "source": [],
      "metadata": {
        "id": "AP-tVK5SVbRm"
      },
      "execution_count": null,
      "outputs": []
    },
    {
      "cell_type": "markdown",
      "source": [
        "c) Check if the text is in sentence case. If not convert it."
      ],
      "metadata": {
        "id": "oVOhyIj8VFmj"
      }
    },
    {
      "cell_type": "code",
      "source": [],
      "metadata": {
        "id": "oxj5WAolVKM0"
      },
      "execution_count": null,
      "outputs": []
    },
    {
      "cell_type": "code",
      "source": [],
      "metadata": {
        "id": "swiFMdgoVbwQ"
      },
      "execution_count": null,
      "outputs": []
    },
    {
      "cell_type": "markdown",
      "source": [
        "d) Check if the text is in title case. If not convert it."
      ],
      "metadata": {
        "id": "vpCF_BMSVKyG"
      }
    },
    {
      "cell_type": "code",
      "source": [],
      "metadata": {
        "id": "Y6x-4edCVPYN"
      },
      "execution_count": null,
      "outputs": []
    },
    {
      "cell_type": "code",
      "source": [],
      "metadata": {
        "id": "PDcWcLVOVcM7"
      },
      "execution_count": null,
      "outputs": []
    },
    {
      "cell_type": "markdown",
      "source": [
        "e) Find the number of characters in the variable called ***text***"
      ],
      "metadata": {
        "id": "xo4s--htVc6Y"
      }
    },
    {
      "cell_type": "code",
      "source": [],
      "metadata": {
        "id": "YtYY-rGWVm1j"
      },
      "execution_count": null,
      "outputs": []
    },
    {
      "cell_type": "markdown",
      "source": [
        "f) Find the index position of the word fox"
      ],
      "metadata": {
        "id": "Bz-RxsuVVoWI"
      }
    },
    {
      "cell_type": "code",
      "source": [],
      "metadata": {
        "id": "c9SdEekLV8Zb"
      },
      "execution_count": null,
      "outputs": []
    },
    {
      "cell_type": "markdown",
      "source": [
        "g) Replace the word fox with lion"
      ],
      "metadata": {
        "id": "-w9sQf7JWAdK"
      }
    },
    {
      "cell_type": "code",
      "source": [],
      "metadata": {
        "id": "ZRZdUQKJWHX3"
      },
      "execution_count": null,
      "outputs": []
    },
    {
      "cell_type": "markdown",
      "source": [
        "h) Split the sentence into a list of words i.e splitting by the space"
      ],
      "metadata": {
        "id": "FeMKON7lWH4g"
      }
    },
    {
      "cell_type": "code",
      "source": [],
      "metadata": {
        "id": "udHYlx0IWSJW"
      },
      "execution_count": null,
      "outputs": []
    },
    {
      "cell_type": "markdown",
      "source": [
        "# **Question 2**"
      ],
      "metadata": {
        "id": "a-ibqhpEWStv"
      }
    },
    {
      "cell_type": "markdown",
      "source": [
        "a) Create a list which contains the first the following names of people (I have chosen the names at random):\n",
        "\n",
        "Peter, John, Marry, Thomas, Tatenda"
      ],
      "metadata": {
        "id": "EPGzwwyYWglx"
      }
    },
    {
      "cell_type": "code",
      "source": [],
      "metadata": {
        "id": "-rGJPlYWWWa3"
      },
      "execution_count": null,
      "outputs": []
    },
    {
      "cell_type": "markdown",
      "source": [
        "b) Find the number of elements in the list"
      ],
      "metadata": {
        "id": "CJyWfZavW7gN"
      }
    },
    {
      "cell_type": "code",
      "source": [],
      "metadata": {
        "id": "XR9IYrL8XE47"
      },
      "execution_count": null,
      "outputs": []
    },
    {
      "cell_type": "markdown",
      "source": [
        "c) Add another person called John"
      ],
      "metadata": {
        "id": "KXFSoha7XHPr"
      }
    },
    {
      "cell_type": "code",
      "source": [],
      "metadata": {
        "id": "YPYEFLfJXM-S"
      },
      "execution_count": null,
      "outputs": []
    },
    {
      "cell_type": "code",
      "source": [],
      "metadata": {
        "id": "KFFZyShPLePn"
      },
      "execution_count": null,
      "outputs": []
    },
    {
      "cell_type": "markdown",
      "source": [
        "d) Add the following people in the list:\n",
        "\n",
        "Mary, John, Tino,Mary"
      ],
      "metadata": {
        "id": "ZAfOTaHYXQf2"
      }
    },
    {
      "cell_type": "code",
      "source": [],
      "metadata": {
        "id": "3WGN4J4aXkad"
      },
      "execution_count": null,
      "outputs": []
    },
    {
      "cell_type": "markdown",
      "source": [
        "e) How many Mary's, John's and Thomas's do we have in the list?"
      ],
      "metadata": {
        "id": "j0Z_dFGVXmyP"
      }
    },
    {
      "cell_type": "code",
      "source": [],
      "metadata": {
        "id": "DUy4yMBwYDLM"
      },
      "execution_count": null,
      "outputs": []
    },
    {
      "cell_type": "code",
      "source": [],
      "metadata": {
        "id": "sT7qLsESYSt4"
      },
      "execution_count": null,
      "outputs": []
    },
    {
      "cell_type": "code",
      "source": [],
      "metadata": {
        "id": "LdDpkNsaYSi7"
      },
      "execution_count": null,
      "outputs": []
    },
    {
      "cell_type": "markdown",
      "source": [
        "f) Insert Tom on index position 3"
      ],
      "metadata": {
        "id": "M_TKBDujYDv0"
      }
    },
    {
      "cell_type": "code",
      "source": [],
      "metadata": {
        "id": "TwoZblmrYIUj"
      },
      "execution_count": null,
      "outputs": []
    },
    {
      "cell_type": "markdown",
      "source": [
        "g) Find the index position of the first occurence of Mary"
      ],
      "metadata": {
        "id": "DWMKdI9QYJNX"
      }
    },
    {
      "cell_type": "code",
      "source": [],
      "metadata": {
        "id": "qsjn16rLYQJK"
      },
      "execution_count": null,
      "outputs": []
    },
    {
      "cell_type": "markdown",
      "source": [
        "h) Remove Tino from the list"
      ],
      "metadata": {
        "id": "QD3CE8BDYTWc"
      }
    },
    {
      "cell_type": "code",
      "source": [],
      "metadata": {
        "id": "61TZhpAIYan4"
      },
      "execution_count": null,
      "outputs": []
    },
    {
      "cell_type": "code",
      "source": [],
      "metadata": {
        "id": "Ki0-BnKyMmGX"
      },
      "execution_count": null,
      "outputs": []
    }
  ]
}